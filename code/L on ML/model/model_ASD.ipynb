{
 "cells": [
  {
   "cell_type": "markdown",
   "metadata": {},
   "source": [
    "- 加载包"
   ]
  },
  {
   "cell_type": "code",
   "execution_count": 1,
   "metadata": {},
   "outputs": [],
   "source": [
    "import pandas as pd\n",
    "import numpy as np\n",
    "import matplotlib.pyplot as plt\n",
    "from xgboost import XGBRFClassifier\n",
    "from sklearn.ensemble import RandomForestClassifier\n",
    "from sklearn.ensemble import GradientBoostingClassifier\n",
    "from sklearn.ensemble import ExtraTreesClassifier\n",
    "from sklearn.svm import LinearSVC\n",
    "from sklearn.linear_model import LogisticRegression\n",
    "from sklearn.tree import DecisionTreeClassifier\n",
    "from sklearn.ensemble import AdaBoostClassifier\n",
    "from sklearn.metrics import accuracy_score\n",
    "from sklearn.model_selection import cross_val_score\n",
    "from sklearn.metrics import roc_curve, auc\n",
    "from sklearn.preprocessing import LabelEncoder\n",
    "from tqdm import tqdm"
   ]
  },
  {
   "cell_type": "markdown",
   "metadata": {},
   "source": [
    "- 加载数据"
   ]
  },
  {
   "cell_type": "code",
   "execution_count": 2,
   "metadata": {},
   "outputs": [],
   "source": [
    "# load data\n",
    "df_all = pd.read_csv('/Users/wangjingran/Desktop/PTEN mutation/L on ML/paras.txt', sep='\\t')\n",
    "\n",
    "# 切分数据\n",
    "df_ASD_AC = df_all[df_all['Disease'].isin(['ASD', 'ASD_Cancer'])]\n",
    "df_Cancer_AC = df_all[df_all['Disease'].isin(['Cancer', 'ASD_Cancer'])]"
   ]
  },
  {
   "cell_type": "markdown",
   "metadata": {},
   "source": [
    "- 数据切分"
   ]
  },
  {
   "cell_type": "code",
   "execution_count": 3,
   "metadata": {},
   "outputs": [],
   "source": [
    "# 洗牌打乱    \n",
    "X = df_ASD_AC[['Co.evolution','Conservation','Entropy','RASA',\n",
    "                      'energy','Betweenness','Closeness','Degree','Eigenvector',\n",
    "                      'Clustering.coefficient','Effectiveness','Sensitivity',\n",
    "                      'MSF','DFI','Stiffness']]\n",
    "y = df_ASD_AC['Disease']\n",
    "\n",
    "# 切分后的数据集重新将index排序\n",
    "X = X.reset_index(drop=True)\n",
    "y = y.reset_index(drop=True)\n",
    "shuffle_index = np.random.permutation(X.index)\n",
    "X= X.iloc[shuffle_index]\n",
    "y = y.iloc[shuffle_index]\n",
    "\n",
    "# 切分数据集\n",
    "X_train = X[:round(X.shape[0] * 0.8)]\n",
    "X_test = X[round(X.shape[0] * 0.8):]\n",
    "y_train = y[:round(X.shape[0] * 0.8)]\n",
    "y_test = y[round(X.shape[0] * 0.8):]"
   ]
  },
  {
   "cell_type": "markdown",
   "metadata": {},
   "source": [
    "- 使用随机森林计算AlphaScore\n",
    "- 查询资料得分制应该是预测为1的概率值"
   ]
  },
  {
   "cell_type": "code",
   "execution_count": 4,
   "metadata": {},
   "outputs": [],
   "source": [
    "# 随机森林\n",
    "rf_clf = RandomForestClassifier(n_estimators=3000, n_jobs=-1, max_depth=5)\n",
    "rf_clf.fit(X_train, y_train)\n",
    "score = rf_clf.predict_proba(X_test)[:,1]"
   ]
  },
  {
   "cell_type": "markdown",
   "metadata": {},
   "source": []
  }
 ],
 "metadata": {
  "kernelspec": {
   "display_name": "PTEN",
   "language": "python",
   "name": "python3"
  },
  "language_info": {
   "codemirror_mode": {
    "name": "ipython",
    "version": 3
   },
   "file_extension": ".py",
   "mimetype": "text/x-python",
   "name": "python",
   "nbconvert_exporter": "python",
   "pygments_lexer": "ipython3",
   "version": "3.11.5"
  }
 },
 "nbformat": 4,
 "nbformat_minor": 2
}
