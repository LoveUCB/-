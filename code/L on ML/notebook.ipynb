{
 "cells": [
  {
   "cell_type": "markdown",
   "metadata": {},
   "source": [
    "- <mark> 弹性网络模型效果差 </mark>\n",
    "- <mark> 遍历所有可能？ </mark>\n",
    "- <mark> 是否需要进行预剪枝，使用Boosting等操作 </mark>\n",
    "- 集成算法和回归加权\n",
    "## import包"
   ]
  },
  {
   "cell_type": "code",
   "execution_count": 2,
   "metadata": {},
   "outputs": [],
   "source": [
    "import pandas as pd\n",
    "import numpy as np\n",
    "import matplotlib.pyplot as plt\n",
    "from xgboost import XGBRFClassifier\n",
    "from sklearn.ensemble import RandomForestClassifier\n",
    "from sklearn.tree import DecisionTreeClassifier\n",
    "from sklearn.ensemble import AdaBoostClassifier\n",
    "from sklearn.ensemble import GradientBoostingClassifier\n",
    "from sklearn.metrics import accuracy_score\n",
    "from sklearn.metrics import roc_curve, auc\n",
    "from sklearn.preprocessing import LabelEncoder\n",
    "from tqdm import tqdm"
   ]
  },
  {
   "cell_type": "markdown",
   "metadata": {},
   "source": [
    "## 数据准备"
   ]
  },
  {
   "cell_type": "code",
   "execution_count": 3,
   "metadata": {},
   "outputs": [],
   "source": [
    "# 读取数据\n",
    "df_all = pd.read_csv('/Users/wangjingran/Desktop/PTEN mutation/L on ML/paras.txt', sep='\\t')\n",
    "# 数据切分\n",
    "df_ASD_Cancer = df_all[df_all['Disease'].isin(['ASD', 'Cancer'])]\n",
    "df_ASD_AC = df_all[df_all['Disease'].isin(['ASD', 'ASD_Cancer'])]\n",
    "df_Cancer_AC = df_all[df_all['Disease'].isin(['Cancer', 'ASD_Cancer'])]\n",
    "def average(lst):\n",
    "    if len(lst) == 0:\n",
    "        return 0\n",
    "    else:\n",
    "        return sum(lst) / len(lst)"
   ]
  },
  {
   "cell_type": "markdown",
   "metadata": {},
   "source": [
    "## 模型循环选择——ASD versus Cancer"
   ]
  },
  {
   "cell_type": "code",
   "execution_count": null,
   "metadata": {},
   "outputs": [],
   "source": [
    "\n",
    "# 生成全部的组合\n",
    "import itertools\n",
    "variables = ['Betweenness', 'Closeness', 'Degree', 'Eigenvector', 'Clustering_coefficient']\n",
    "all_combinations = []\n",
    "# 组合\n",
    "for r in range(1, len(variables)+1):\n",
    "    combinations = list(itertools.combinations(variables, r))\n",
    "    combinations = [list(combination) for combination in combinations]  # 转换为列表\n",
    "    all_combinations.extend(combinations)\n",
    "\n",
    "for combination in all_combinations:\n",
    "    # 筛选数据\n",
    "    X_select = df_AA_ASD_Cancer[combination]\n",
    "    y_select = df_AA_ASD_Cancer['Disease']\n",
    "    # 切分后的数据集重新将index排序\n",
    "    X_select = X_select.reset_index(drop=True)\n",
    "    y_select = y_select.reset_index(drop=True)\n",
    "    shuffle_index = np.random.permutation(X_select.index)\n",
    "    X_select= X_select.iloc[shuffle_index]\n",
    "    y_select = y_select.iloc[shuffle_index]\n",
    "    # 切分数据集\n",
    "    X_train_select = X_select[:650]\n",
    "    X_test_select = X_select[650:]\n",
    "    y_train_select = y_select[:650]\n",
    "    y_test_select = y_select[650:]\n",
    "    # 训练模型\n",
    "    rf_clf_select = AdaBoostClassifier(DecisionTreeClassifier(max_depth=1), n_estimators=2000, learning_rate=0.5, random_state=42)\n",
    "    rf_clf_select.fit(X_train_select, y_train_select)\n",
    "    score_select = rf_clf_select.feature_importances_\n",
    "    y_pred_select = rf_clf_select.predict(X_test_select)\n",
    "    # 打印输出\n",
    "    print(\"-\"*20,end = '')\n",
    "    print(str(combination),end = '')\n",
    "    print(\"-\"*20)\n",
    "    print(\"*****重要性得分*****\")\n",
    "    print(score_select)\n",
    "    print(\"*****模型准确性*****\")\n",
    "    print(accuracy_score(y_test_select, y_pred_select))\n",
    "\n"
   ]
  },
  {
   "cell_type": "markdown",
   "metadata": {},
   "source": [
    "## 模型循环选择——ASD versus ASD_Cancer"
   ]
  },
  {
   "cell_type": "code",
   "execution_count": 4,
   "metadata": {},
   "outputs": [],
   "source": [
    "# 生成全部的组合\n",
    "import itertools\n",
    "variables = ['Co.evolution','Conservation','Entropy','RASA','energy',\n",
    "             'Betweenness','Closeness','Degree','Eigenvector',\n",
    "             'Clustering.coefficient','Effectiveness','Sensitivity',\n",
    "             'MSF','DFI','Stiffness']\n",
    "all_combinations = []\n",
    "# 组合\n",
    "for r in range(1, len(variables)+1):\n",
    "    combinations = list(itertools.combinations(variables, r))\n",
    "    combinations = [list(combination) for combination in combinations]  # 转换为列表\n",
    "    all_combinations.extend(combinations)\n",
    "\n",
    "list_ASD_AC = []\n",
    "df_ASD_Cancer = df_all[df_all['Disease'].isin(['ASD', 'Cancer'])]\n",
    "df_ASD_AC = df_all[df_all['Disease'].isin(['ASD', 'ASD_Cancer'])]\n",
    "df_Cancer_AC = df_all[df_all['Disease'].isin(['Cancer', 'ASD_Cancer'])]\n",
    "\n",
    "  "
   ]
  },
  {
   "cell_type": "code",
   "execution_count": 7,
   "metadata": {},
   "outputs": [
    {
     "name": "stderr",
     "output_type": "stream",
     "text": [
      "  1%|▏         | 436/32767 [42:03<51:59:20,  5.79s/it] \n"
     ]
    },
    {
     "ename": "KeyboardInterrupt",
     "evalue": "",
     "output_type": "error",
     "traceback": [
      "\u001b[0;31m---------------------------------------------------------------------------\u001b[0m",
      "\u001b[0;31mKeyboardInterrupt\u001b[0m                         Traceback (most recent call last)",
      "\u001b[1;32m/Users/wangjingran/Desktop/PTEN mutation/L on ML/notebook.ipynb 单元格 9\u001b[0m line \u001b[0;36m2\n\u001b[1;32m     <a href='vscode-notebook-cell:/Users/wangjingran/Desktop/PTEN%20mutation/L%20on%20ML/notebook.ipynb#X31sZmlsZQ%3D%3D?line=17'>18</a>\u001b[0m \u001b[39m# 训练模型————随机森林\u001b[39;00m\n\u001b[1;32m     <a href='vscode-notebook-cell:/Users/wangjingran/Desktop/PTEN%20mutation/L%20on%20ML/notebook.ipynb#X31sZmlsZQ%3D%3D?line=18'>19</a>\u001b[0m rf_clf_select \u001b[39m=\u001b[39m RandomForestClassifier(n_estimators\u001b[39m=\u001b[39m\u001b[39m1000\u001b[39m, n_jobs\u001b[39m=\u001b[39m\u001b[39m-\u001b[39m\u001b[39m1\u001b[39m, max_depth\u001b[39m=\u001b[39m\u001b[39m5\u001b[39m)\n\u001b[0;32m---> <a href='vscode-notebook-cell:/Users/wangjingran/Desktop/PTEN%20mutation/L%20on%20ML/notebook.ipynb#X31sZmlsZQ%3D%3D?line=19'>20</a>\u001b[0m rf_clf_select\u001b[39m.\u001b[39;49mfit(X_train_select, y_train_select)\n\u001b[1;32m     <a href='vscode-notebook-cell:/Users/wangjingran/Desktop/PTEN%20mutation/L%20on%20ML/notebook.ipynb#X31sZmlsZQ%3D%3D?line=20'>21</a>\u001b[0m score_select \u001b[39m=\u001b[39m rf_clf_select\u001b[39m.\u001b[39mfeature_importances_\n\u001b[1;32m     <a href='vscode-notebook-cell:/Users/wangjingran/Desktop/PTEN%20mutation/L%20on%20ML/notebook.ipynb#X31sZmlsZQ%3D%3D?line=21'>22</a>\u001b[0m \u001b[39m#y_pred_select = rf_clf_select.predict(X_test_select)\u001b[39;00m\n",
      "File \u001b[0;32m~/anaconda3/envs/PTEN/lib/python3.11/site-packages/sklearn/base.py:1151\u001b[0m, in \u001b[0;36m_fit_context.<locals>.decorator.<locals>.wrapper\u001b[0;34m(estimator, *args, **kwargs)\u001b[0m\n\u001b[1;32m   1144\u001b[0m     estimator\u001b[39m.\u001b[39m_validate_params()\n\u001b[1;32m   1146\u001b[0m \u001b[39mwith\u001b[39;00m config_context(\n\u001b[1;32m   1147\u001b[0m     skip_parameter_validation\u001b[39m=\u001b[39m(\n\u001b[1;32m   1148\u001b[0m         prefer_skip_nested_validation \u001b[39mor\u001b[39;00m global_skip_validation\n\u001b[1;32m   1149\u001b[0m     )\n\u001b[1;32m   1150\u001b[0m ):\n\u001b[0;32m-> 1151\u001b[0m     \u001b[39mreturn\u001b[39;00m fit_method(estimator, \u001b[39m*\u001b[39;49margs, \u001b[39m*\u001b[39;49m\u001b[39m*\u001b[39;49mkwargs)\n",
      "File \u001b[0;32m~/anaconda3/envs/PTEN/lib/python3.11/site-packages/sklearn/ensemble/_forest.py:456\u001b[0m, in \u001b[0;36mBaseForest.fit\u001b[0;34m(self, X, y, sample_weight)\u001b[0m\n\u001b[1;32m    445\u001b[0m trees \u001b[39m=\u001b[39m [\n\u001b[1;32m    446\u001b[0m     \u001b[39mself\u001b[39m\u001b[39m.\u001b[39m_make_estimator(append\u001b[39m=\u001b[39m\u001b[39mFalse\u001b[39;00m, random_state\u001b[39m=\u001b[39mrandom_state)\n\u001b[1;32m    447\u001b[0m     \u001b[39mfor\u001b[39;00m i \u001b[39min\u001b[39;00m \u001b[39mrange\u001b[39m(n_more_estimators)\n\u001b[1;32m    448\u001b[0m ]\n\u001b[1;32m    450\u001b[0m \u001b[39m# Parallel loop: we prefer the threading backend as the Cython code\u001b[39;00m\n\u001b[1;32m    451\u001b[0m \u001b[39m# for fitting the trees is internally releasing the Python GIL\u001b[39;00m\n\u001b[1;32m    452\u001b[0m \u001b[39m# making threading more efficient than multiprocessing in\u001b[39;00m\n\u001b[1;32m    453\u001b[0m \u001b[39m# that case. However, for joblib 0.12+ we respect any\u001b[39;00m\n\u001b[1;32m    454\u001b[0m \u001b[39m# parallel_backend contexts set at a higher level,\u001b[39;00m\n\u001b[1;32m    455\u001b[0m \u001b[39m# since correctness does not rely on using threads.\u001b[39;00m\n\u001b[0;32m--> 456\u001b[0m trees \u001b[39m=\u001b[39m Parallel(\n\u001b[1;32m    457\u001b[0m     n_jobs\u001b[39m=\u001b[39;49m\u001b[39mself\u001b[39;49m\u001b[39m.\u001b[39;49mn_jobs,\n\u001b[1;32m    458\u001b[0m     verbose\u001b[39m=\u001b[39;49m\u001b[39mself\u001b[39;49m\u001b[39m.\u001b[39;49mverbose,\n\u001b[1;32m    459\u001b[0m     prefer\u001b[39m=\u001b[39;49m\u001b[39m\"\u001b[39;49m\u001b[39mthreads\u001b[39;49m\u001b[39m\"\u001b[39;49m,\n\u001b[1;32m    460\u001b[0m )(\n\u001b[1;32m    461\u001b[0m     delayed(_parallel_build_trees)(\n\u001b[1;32m    462\u001b[0m         t,\n\u001b[1;32m    463\u001b[0m         \u001b[39mself\u001b[39;49m\u001b[39m.\u001b[39;49mbootstrap,\n\u001b[1;32m    464\u001b[0m         X,\n\u001b[1;32m    465\u001b[0m         y,\n\u001b[1;32m    466\u001b[0m         sample_weight,\n\u001b[1;32m    467\u001b[0m         i,\n\u001b[1;32m    468\u001b[0m         \u001b[39mlen\u001b[39;49m(trees),\n\u001b[1;32m    469\u001b[0m         verbose\u001b[39m=\u001b[39;49m\u001b[39mself\u001b[39;49m\u001b[39m.\u001b[39;49mverbose,\n\u001b[1;32m    470\u001b[0m         class_weight\u001b[39m=\u001b[39;49m\u001b[39mself\u001b[39;49m\u001b[39m.\u001b[39;49mclass_weight,\n\u001b[1;32m    471\u001b[0m         n_samples_bootstrap\u001b[39m=\u001b[39;49mn_samples_bootstrap,\n\u001b[1;32m    472\u001b[0m     )\n\u001b[1;32m    473\u001b[0m     \u001b[39mfor\u001b[39;49;00m i, t \u001b[39min\u001b[39;49;00m \u001b[39menumerate\u001b[39;49m(trees)\n\u001b[1;32m    474\u001b[0m )\n\u001b[1;32m    476\u001b[0m \u001b[39m# Collect newly grown trees\u001b[39;00m\n\u001b[1;32m    477\u001b[0m \u001b[39mself\u001b[39m\u001b[39m.\u001b[39mestimators_\u001b[39m.\u001b[39mextend(trees)\n",
      "File \u001b[0;32m~/anaconda3/envs/PTEN/lib/python3.11/site-packages/sklearn/utils/parallel.py:65\u001b[0m, in \u001b[0;36mParallel.__call__\u001b[0;34m(self, iterable)\u001b[0m\n\u001b[1;32m     60\u001b[0m config \u001b[39m=\u001b[39m get_config()\n\u001b[1;32m     61\u001b[0m iterable_with_config \u001b[39m=\u001b[39m (\n\u001b[1;32m     62\u001b[0m     (_with_config(delayed_func, config), args, kwargs)\n\u001b[1;32m     63\u001b[0m     \u001b[39mfor\u001b[39;00m delayed_func, args, kwargs \u001b[39min\u001b[39;00m iterable\n\u001b[1;32m     64\u001b[0m )\n\u001b[0;32m---> 65\u001b[0m \u001b[39mreturn\u001b[39;00m \u001b[39msuper\u001b[39;49m()\u001b[39m.\u001b[39;49m\u001b[39m__call__\u001b[39;49m(iterable_with_config)\n",
      "File \u001b[0;32m~/anaconda3/envs/PTEN/lib/python3.11/site-packages/joblib/parallel.py:1098\u001b[0m, in \u001b[0;36mParallel.__call__\u001b[0;34m(self, iterable)\u001b[0m\n\u001b[1;32m   1095\u001b[0m     \u001b[39mself\u001b[39m\u001b[39m.\u001b[39m_iterating \u001b[39m=\u001b[39m \u001b[39mFalse\u001b[39;00m\n\u001b[1;32m   1097\u001b[0m \u001b[39mwith\u001b[39;00m \u001b[39mself\u001b[39m\u001b[39m.\u001b[39m_backend\u001b[39m.\u001b[39mretrieval_context():\n\u001b[0;32m-> 1098\u001b[0m     \u001b[39mself\u001b[39;49m\u001b[39m.\u001b[39;49mretrieve()\n\u001b[1;32m   1099\u001b[0m \u001b[39m# Make sure that we get a last message telling us we are done\u001b[39;00m\n\u001b[1;32m   1100\u001b[0m elapsed_time \u001b[39m=\u001b[39m time\u001b[39m.\u001b[39mtime() \u001b[39m-\u001b[39m \u001b[39mself\u001b[39m\u001b[39m.\u001b[39m_start_time\n",
      "File \u001b[0;32m~/anaconda3/envs/PTEN/lib/python3.11/site-packages/joblib/parallel.py:975\u001b[0m, in \u001b[0;36mParallel.retrieve\u001b[0;34m(self)\u001b[0m\n\u001b[1;32m    973\u001b[0m \u001b[39mtry\u001b[39;00m:\n\u001b[1;32m    974\u001b[0m     \u001b[39mif\u001b[39;00m \u001b[39mgetattr\u001b[39m(\u001b[39mself\u001b[39m\u001b[39m.\u001b[39m_backend, \u001b[39m'\u001b[39m\u001b[39msupports_timeout\u001b[39m\u001b[39m'\u001b[39m, \u001b[39mFalse\u001b[39;00m):\n\u001b[0;32m--> 975\u001b[0m         \u001b[39mself\u001b[39m\u001b[39m.\u001b[39m_output\u001b[39m.\u001b[39mextend(job\u001b[39m.\u001b[39;49mget(timeout\u001b[39m=\u001b[39;49m\u001b[39mself\u001b[39;49m\u001b[39m.\u001b[39;49mtimeout))\n\u001b[1;32m    976\u001b[0m     \u001b[39melse\u001b[39;00m:\n\u001b[1;32m    977\u001b[0m         \u001b[39mself\u001b[39m\u001b[39m.\u001b[39m_output\u001b[39m.\u001b[39mextend(job\u001b[39m.\u001b[39mget())\n",
      "File \u001b[0;32m~/anaconda3/envs/PTEN/lib/python3.11/multiprocessing/pool.py:768\u001b[0m, in \u001b[0;36mApplyResult.get\u001b[0;34m(self, timeout)\u001b[0m\n\u001b[1;32m    767\u001b[0m \u001b[39mdef\u001b[39;00m \u001b[39mget\u001b[39m(\u001b[39mself\u001b[39m, timeout\u001b[39m=\u001b[39m\u001b[39mNone\u001b[39;00m):\n\u001b[0;32m--> 768\u001b[0m     \u001b[39mself\u001b[39;49m\u001b[39m.\u001b[39;49mwait(timeout)\n\u001b[1;32m    769\u001b[0m     \u001b[39mif\u001b[39;00m \u001b[39mnot\u001b[39;00m \u001b[39mself\u001b[39m\u001b[39m.\u001b[39mready():\n\u001b[1;32m    770\u001b[0m         \u001b[39mraise\u001b[39;00m \u001b[39mTimeoutError\u001b[39;00m\n",
      "File \u001b[0;32m~/anaconda3/envs/PTEN/lib/python3.11/multiprocessing/pool.py:765\u001b[0m, in \u001b[0;36mApplyResult.wait\u001b[0;34m(self, timeout)\u001b[0m\n\u001b[1;32m    764\u001b[0m \u001b[39mdef\u001b[39;00m \u001b[39mwait\u001b[39m(\u001b[39mself\u001b[39m, timeout\u001b[39m=\u001b[39m\u001b[39mNone\u001b[39;00m):\n\u001b[0;32m--> 765\u001b[0m     \u001b[39mself\u001b[39;49m\u001b[39m.\u001b[39;49m_event\u001b[39m.\u001b[39;49mwait(timeout)\n",
      "File \u001b[0;32m~/anaconda3/envs/PTEN/lib/python3.11/threading.py:622\u001b[0m, in \u001b[0;36mEvent.wait\u001b[0;34m(self, timeout)\u001b[0m\n\u001b[1;32m    620\u001b[0m signaled \u001b[39m=\u001b[39m \u001b[39mself\u001b[39m\u001b[39m.\u001b[39m_flag\n\u001b[1;32m    621\u001b[0m \u001b[39mif\u001b[39;00m \u001b[39mnot\u001b[39;00m signaled:\n\u001b[0;32m--> 622\u001b[0m     signaled \u001b[39m=\u001b[39m \u001b[39mself\u001b[39;49m\u001b[39m.\u001b[39;49m_cond\u001b[39m.\u001b[39;49mwait(timeout)\n\u001b[1;32m    623\u001b[0m \u001b[39mreturn\u001b[39;00m signaled\n",
      "File \u001b[0;32m~/anaconda3/envs/PTEN/lib/python3.11/threading.py:320\u001b[0m, in \u001b[0;36mCondition.wait\u001b[0;34m(self, timeout)\u001b[0m\n\u001b[1;32m    318\u001b[0m \u001b[39mtry\u001b[39;00m:    \u001b[39m# restore state no matter what (e.g., KeyboardInterrupt)\u001b[39;00m\n\u001b[1;32m    319\u001b[0m     \u001b[39mif\u001b[39;00m timeout \u001b[39mis\u001b[39;00m \u001b[39mNone\u001b[39;00m:\n\u001b[0;32m--> 320\u001b[0m         waiter\u001b[39m.\u001b[39;49macquire()\n\u001b[1;32m    321\u001b[0m         gotit \u001b[39m=\u001b[39m \u001b[39mTrue\u001b[39;00m\n\u001b[1;32m    322\u001b[0m     \u001b[39melse\u001b[39;00m:\n",
      "\u001b[0;31mKeyboardInterrupt\u001b[0m: "
     ]
    }
   ],
   "source": [
    "for combination in tqdm(all_combinations):\n",
    "    # 选取数据 \n",
    "    X_select = df_ASD_AC[combination]\n",
    "    y_select = df_ASD_AC['Disease']\n",
    "    # 切分后的数据集重新将index排序\n",
    "    roc_select_list = []\n",
    "    for i in range(10):\n",
    "        X_select = X_select.reset_index(drop=True)\n",
    "        y_select = y_select.reset_index(drop=True)\n",
    "        shuffle_index = np.random.permutation(X_select.index)\n",
    "        X_select= X_select.iloc[shuffle_index]\n",
    "        y_select = y_select.iloc[shuffle_index]\n",
    "        # 切分数据集\n",
    "        X_train_select = X_select[:round(X_select.shape[0] * 0.7)]\n",
    "        X_test_select = X_select[round(X_select.shape[0] * 0.7):]\n",
    "        y_train_select = y_select[:round(X_select.shape[0] * 0.7)]\n",
    "        y_test_select = y_select[round(X_select.shape[0] * 0.7):]\n",
    "        # 训练模型————随机森林\n",
    "        rf_clf_select = RandomForestClassifier(n_estimators=1000, n_jobs=-1, max_depth=5)\n",
    "        rf_clf_select.fit(X_train_select, y_train_select)\n",
    "        score_select = rf_clf_select.feature_importances_\n",
    "        #y_pred_select = rf_clf_select.predict(X_test_select)\n",
    "        y_pred_select_prob = rf_clf_select.predict_proba(X_test_select)[:,1]\n",
    "    \n",
    "        # 计算ROC值\n",
    "        label_encoder = LabelEncoder()\n",
    "        y_test_select_bi = label_encoder.fit_transform(y_test_select)\n",
    "        # y_pred_select_bi = label_encoder.fit_transform(y_pred_select)\n",
    "        fpr_select, tpr_select, thresholds_select = roc_curve(y_test_select_bi, y_pred_select_prob)\n",
    "        roc_auc_select = auc(fpr_select, tpr_select)\n",
    "        roc_select_list.append(roc_auc_select)\n",
    "\n",
    "    f = open(\"随机森林_ASD_ASD_Cancer.txt\", \"a\")\n",
    "    f.write(str(combination) + '\\t')\n",
    "    f.write(str(average(roc_select_list)) + '\\t')\n",
    "    f.write(str(roc_select_list))\n",
    "    f.write('\\n')\n",
    "    f.close()"
   ]
  },
  {
   "cell_type": "markdown",
   "metadata": {
    "collapsed": false
   },
   "source": [
    "## 模型循环选择——Cancer versus ASD_Cancer"
   ]
  },
  {
   "cell_type": "code",
   "execution_count": 8,
   "metadata": {},
   "outputs": [
    {
     "name": "stderr",
     "output_type": "stream",
     "text": [
      " 10%|▉         | 3221/32767 [29:56:09<274:36:06, 33.46s/it]  \n"
     ]
    },
    {
     "ename": "KeyboardInterrupt",
     "evalue": "",
     "output_type": "error",
     "traceback": [
      "\u001b[0;31m---------------------------------------------------------------------------\u001b[0m",
      "\u001b[0;31mKeyboardInterrupt\u001b[0m                         Traceback (most recent call last)",
      "\u001b[1;32m/Users/wangjingran/Desktop/PTEN mutation/L on ML/notebook.ipynb 单元格 11\u001b[0m line \u001b[0;36m2\n\u001b[1;32m     <a href='vscode-notebook-cell:/Users/wangjingran/Desktop/PTEN%20mutation/L%20on%20ML/notebook.ipynb#X32sZmlsZQ%3D%3D?line=17'>18</a>\u001b[0m \u001b[39m# 训练模型————梯度下降\u001b[39;00m\n\u001b[1;32m     <a href='vscode-notebook-cell:/Users/wangjingran/Desktop/PTEN%20mutation/L%20on%20ML/notebook.ipynb#X32sZmlsZQ%3D%3D?line=18'>19</a>\u001b[0m rf_clf_select \u001b[39m=\u001b[39m GradientBoostingClassifier(n_estimators\u001b[39m=\u001b[39m\u001b[39m1000\u001b[39m, max_depth\u001b[39m=\u001b[39m\u001b[39m5\u001b[39m)\n\u001b[0;32m---> <a href='vscode-notebook-cell:/Users/wangjingran/Desktop/PTEN%20mutation/L%20on%20ML/notebook.ipynb#X32sZmlsZQ%3D%3D?line=19'>20</a>\u001b[0m rf_clf_select\u001b[39m.\u001b[39;49mfit(X_train_select, y_train_select)\n\u001b[1;32m     <a href='vscode-notebook-cell:/Users/wangjingran/Desktop/PTEN%20mutation/L%20on%20ML/notebook.ipynb#X32sZmlsZQ%3D%3D?line=20'>21</a>\u001b[0m score_select \u001b[39m=\u001b[39m rf_clf_select\u001b[39m.\u001b[39mfeature_importances_\n\u001b[1;32m     <a href='vscode-notebook-cell:/Users/wangjingran/Desktop/PTEN%20mutation/L%20on%20ML/notebook.ipynb#X32sZmlsZQ%3D%3D?line=21'>22</a>\u001b[0m \u001b[39m#y_pred_select = rf_clf_select.predict(X_test_select)\u001b[39;00m\n",
      "File \u001b[0;32m~/anaconda3/envs/PTEN/lib/python3.11/site-packages/sklearn/base.py:1151\u001b[0m, in \u001b[0;36m_fit_context.<locals>.decorator.<locals>.wrapper\u001b[0;34m(estimator, *args, **kwargs)\u001b[0m\n\u001b[1;32m   1144\u001b[0m     estimator\u001b[39m.\u001b[39m_validate_params()\n\u001b[1;32m   1146\u001b[0m \u001b[39mwith\u001b[39;00m config_context(\n\u001b[1;32m   1147\u001b[0m     skip_parameter_validation\u001b[39m=\u001b[39m(\n\u001b[1;32m   1148\u001b[0m         prefer_skip_nested_validation \u001b[39mor\u001b[39;00m global_skip_validation\n\u001b[1;32m   1149\u001b[0m     )\n\u001b[1;32m   1150\u001b[0m ):\n\u001b[0;32m-> 1151\u001b[0m     \u001b[39mreturn\u001b[39;00m fit_method(estimator, \u001b[39m*\u001b[39;49margs, \u001b[39m*\u001b[39;49m\u001b[39m*\u001b[39;49mkwargs)\n",
      "File \u001b[0;32m~/anaconda3/envs/PTEN/lib/python3.11/site-packages/sklearn/ensemble/_gb.py:525\u001b[0m, in \u001b[0;36mBaseGradientBoosting.fit\u001b[0;34m(self, X, y, sample_weight, monitor)\u001b[0m\n\u001b[1;32m    522\u001b[0m     \u001b[39mself\u001b[39m\u001b[39m.\u001b[39m_resize_state()\n\u001b[1;32m    524\u001b[0m \u001b[39m# fit the boosting stages\u001b[39;00m\n\u001b[0;32m--> 525\u001b[0m n_stages \u001b[39m=\u001b[39m \u001b[39mself\u001b[39;49m\u001b[39m.\u001b[39;49m_fit_stages(\n\u001b[1;32m    526\u001b[0m     X,\n\u001b[1;32m    527\u001b[0m     y,\n\u001b[1;32m    528\u001b[0m     raw_predictions,\n\u001b[1;32m    529\u001b[0m     sample_weight,\n\u001b[1;32m    530\u001b[0m     \u001b[39mself\u001b[39;49m\u001b[39m.\u001b[39;49m_rng,\n\u001b[1;32m    531\u001b[0m     X_val,\n\u001b[1;32m    532\u001b[0m     y_val,\n\u001b[1;32m    533\u001b[0m     sample_weight_val,\n\u001b[1;32m    534\u001b[0m     begin_at_stage,\n\u001b[1;32m    535\u001b[0m     monitor,\n\u001b[1;32m    536\u001b[0m )\n\u001b[1;32m    538\u001b[0m \u001b[39m# change shape of arrays after fit (early-stopping or additional ests)\u001b[39;00m\n\u001b[1;32m    539\u001b[0m \u001b[39mif\u001b[39;00m n_stages \u001b[39m!=\u001b[39m \u001b[39mself\u001b[39m\u001b[39m.\u001b[39mestimators_\u001b[39m.\u001b[39mshape[\u001b[39m0\u001b[39m]:\n",
      "File \u001b[0;32m~/anaconda3/envs/PTEN/lib/python3.11/site-packages/sklearn/ensemble/_gb.py:603\u001b[0m, in \u001b[0;36mBaseGradientBoosting._fit_stages\u001b[0;34m(self, X, y, raw_predictions, sample_weight, random_state, X_val, y_val, sample_weight_val, begin_at_stage, monitor)\u001b[0m\n\u001b[1;32m    596\u001b[0m         initial_loss \u001b[39m=\u001b[39m loss_(\n\u001b[1;32m    597\u001b[0m             y[\u001b[39m~\u001b[39msample_mask],\n\u001b[1;32m    598\u001b[0m             raw_predictions[\u001b[39m~\u001b[39msample_mask],\n\u001b[1;32m    599\u001b[0m             sample_weight[\u001b[39m~\u001b[39msample_mask],\n\u001b[1;32m    600\u001b[0m         )\n\u001b[1;32m    602\u001b[0m \u001b[39m# fit next stage of trees\u001b[39;00m\n\u001b[0;32m--> 603\u001b[0m raw_predictions \u001b[39m=\u001b[39m \u001b[39mself\u001b[39;49m\u001b[39m.\u001b[39;49m_fit_stage(\n\u001b[1;32m    604\u001b[0m     i,\n\u001b[1;32m    605\u001b[0m     X,\n\u001b[1;32m    606\u001b[0m     y,\n\u001b[1;32m    607\u001b[0m     raw_predictions,\n\u001b[1;32m    608\u001b[0m     sample_weight,\n\u001b[1;32m    609\u001b[0m     sample_mask,\n\u001b[1;32m    610\u001b[0m     random_state,\n\u001b[1;32m    611\u001b[0m     X_csc,\n\u001b[1;32m    612\u001b[0m     X_csr,\n\u001b[1;32m    613\u001b[0m )\n\u001b[1;32m    615\u001b[0m \u001b[39m# track loss\u001b[39;00m\n\u001b[1;32m    616\u001b[0m \u001b[39mif\u001b[39;00m do_oob:\n",
      "File \u001b[0;32m~/anaconda3/envs/PTEN/lib/python3.11/site-packages/sklearn/ensemble/_gb.py:245\u001b[0m, in \u001b[0;36mBaseGradientBoosting._fit_stage\u001b[0;34m(self, i, X, y, raw_predictions, sample_weight, sample_mask, random_state, X_csc, X_csr)\u001b[0m\n\u001b[1;32m    242\u001b[0m     sample_weight \u001b[39m=\u001b[39m sample_weight \u001b[39m*\u001b[39m sample_mask\u001b[39m.\u001b[39mastype(np\u001b[39m.\u001b[39mfloat64)\n\u001b[1;32m    244\u001b[0m X \u001b[39m=\u001b[39m X_csr \u001b[39mif\u001b[39;00m X_csr \u001b[39mis\u001b[39;00m \u001b[39mnot\u001b[39;00m \u001b[39mNone\u001b[39;00m \u001b[39melse\u001b[39;00m X\n\u001b[0;32m--> 245\u001b[0m tree\u001b[39m.\u001b[39;49mfit(X, residual, sample_weight\u001b[39m=\u001b[39;49msample_weight, check_input\u001b[39m=\u001b[39;49m\u001b[39mFalse\u001b[39;49;00m)\n\u001b[1;32m    247\u001b[0m \u001b[39m# update tree leaves\u001b[39;00m\n\u001b[1;32m    248\u001b[0m loss\u001b[39m.\u001b[39mupdate_terminal_regions(\n\u001b[1;32m    249\u001b[0m     tree\u001b[39m.\u001b[39mtree_,\n\u001b[1;32m    250\u001b[0m     X,\n\u001b[0;32m   (...)\u001b[0m\n\u001b[1;32m    257\u001b[0m     k\u001b[39m=\u001b[39mk,\n\u001b[1;32m    258\u001b[0m )\n",
      "File \u001b[0;32m~/anaconda3/envs/PTEN/lib/python3.11/site-packages/sklearn/base.py:1151\u001b[0m, in \u001b[0;36m_fit_context.<locals>.decorator.<locals>.wrapper\u001b[0;34m(estimator, *args, **kwargs)\u001b[0m\n\u001b[1;32m   1144\u001b[0m     estimator\u001b[39m.\u001b[39m_validate_params()\n\u001b[1;32m   1146\u001b[0m \u001b[39mwith\u001b[39;00m config_context(\n\u001b[1;32m   1147\u001b[0m     skip_parameter_validation\u001b[39m=\u001b[39m(\n\u001b[1;32m   1148\u001b[0m         prefer_skip_nested_validation \u001b[39mor\u001b[39;00m global_skip_validation\n\u001b[1;32m   1149\u001b[0m     )\n\u001b[1;32m   1150\u001b[0m ):\n\u001b[0;32m-> 1151\u001b[0m     \u001b[39mreturn\u001b[39;00m fit_method(estimator, \u001b[39m*\u001b[39;49margs, \u001b[39m*\u001b[39;49m\u001b[39m*\u001b[39;49mkwargs)\n",
      "File \u001b[0;32m~/anaconda3/envs/PTEN/lib/python3.11/site-packages/sklearn/tree/_classes.py:1320\u001b[0m, in \u001b[0;36mDecisionTreeRegressor.fit\u001b[0;34m(self, X, y, sample_weight, check_input)\u001b[0m\n\u001b[1;32m   1290\u001b[0m \u001b[39m@_fit_context\u001b[39m(prefer_skip_nested_validation\u001b[39m=\u001b[39m\u001b[39mTrue\u001b[39;00m)\n\u001b[1;32m   1291\u001b[0m \u001b[39mdef\u001b[39;00m \u001b[39mfit\u001b[39m(\u001b[39mself\u001b[39m, X, y, sample_weight\u001b[39m=\u001b[39m\u001b[39mNone\u001b[39;00m, check_input\u001b[39m=\u001b[39m\u001b[39mTrue\u001b[39;00m):\n\u001b[1;32m   1292\u001b[0m \u001b[39m    \u001b[39m\u001b[39m\"\"\"Build a decision tree regressor from the training set (X, y).\u001b[39;00m\n\u001b[1;32m   1293\u001b[0m \n\u001b[1;32m   1294\u001b[0m \u001b[39m    Parameters\u001b[39;00m\n\u001b[0;32m   (...)\u001b[0m\n\u001b[1;32m   1317\u001b[0m \u001b[39m        Fitted estimator.\u001b[39;00m\n\u001b[1;32m   1318\u001b[0m \u001b[39m    \"\"\"\u001b[39;00m\n\u001b[0;32m-> 1320\u001b[0m     \u001b[39msuper\u001b[39;49m()\u001b[39m.\u001b[39;49m_fit(\n\u001b[1;32m   1321\u001b[0m         X,\n\u001b[1;32m   1322\u001b[0m         y,\n\u001b[1;32m   1323\u001b[0m         sample_weight\u001b[39m=\u001b[39;49msample_weight,\n\u001b[1;32m   1324\u001b[0m         check_input\u001b[39m=\u001b[39;49mcheck_input,\n\u001b[1;32m   1325\u001b[0m     )\n\u001b[1;32m   1326\u001b[0m     \u001b[39mreturn\u001b[39;00m \u001b[39mself\u001b[39m\n",
      "File \u001b[0;32m~/anaconda3/envs/PTEN/lib/python3.11/site-packages/sklearn/tree/_classes.py:443\u001b[0m, in \u001b[0;36mBaseDecisionTree._fit\u001b[0;34m(self, X, y, sample_weight, check_input, missing_values_in_feature_mask)\u001b[0m\n\u001b[1;32m    432\u001b[0m \u001b[39melse\u001b[39;00m:\n\u001b[1;32m    433\u001b[0m     builder \u001b[39m=\u001b[39m BestFirstTreeBuilder(\n\u001b[1;32m    434\u001b[0m         splitter,\n\u001b[1;32m    435\u001b[0m         min_samples_split,\n\u001b[0;32m   (...)\u001b[0m\n\u001b[1;32m    440\u001b[0m         \u001b[39mself\u001b[39m\u001b[39m.\u001b[39mmin_impurity_decrease,\n\u001b[1;32m    441\u001b[0m     )\n\u001b[0;32m--> 443\u001b[0m builder\u001b[39m.\u001b[39;49mbuild(\u001b[39mself\u001b[39;49m\u001b[39m.\u001b[39;49mtree_, X, y, sample_weight, missing_values_in_feature_mask)\n\u001b[1;32m    445\u001b[0m \u001b[39mif\u001b[39;00m \u001b[39mself\u001b[39m\u001b[39m.\u001b[39mn_outputs_ \u001b[39m==\u001b[39m \u001b[39m1\u001b[39m \u001b[39mand\u001b[39;00m is_classifier(\u001b[39mself\u001b[39m):\n\u001b[1;32m    446\u001b[0m     \u001b[39mself\u001b[39m\u001b[39m.\u001b[39mn_classes_ \u001b[39m=\u001b[39m \u001b[39mself\u001b[39m\u001b[39m.\u001b[39mn_classes_[\u001b[39m0\u001b[39m]\n",
      "\u001b[0;31mKeyboardInterrupt\u001b[0m: "
     ]
    }
   ],
   "source": [
    "for combination in tqdm(all_combinations):\n",
    "    # 选取数据 \n",
    "    X_select = df_Cancer_AC[combination]\n",
    "    y_select = df_Cancer_AC['Disease']\n",
    "    # 切分后的数据集重新将index排序\n",
    "    roc_select_list = []\n",
    "    for i in range(10):\n",
    "        X_select = X_select.reset_index(drop=True)\n",
    "        y_select = y_select.reset_index(drop=True)\n",
    "        shuffle_index = np.random.permutation(X_select.index)\n",
    "        X_select= X_select.iloc[shuffle_index]\n",
    "        y_select = y_select.iloc[shuffle_index]\n",
    "        # 切分数据集\n",
    "        X_train_select = X_select[:round(X_select.shape[0] * 0.7)]\n",
    "        X_test_select = X_select[round(X_select.shape[0] * 0.7):]\n",
    "        y_train_select = y_select[:round(X_select.shape[0] * 0.7)]\n",
    "        y_test_select = y_select[round(X_select.shape[0] * 0.7):]\n",
    "        # 训练模型————梯度下降\n",
    "        rf_clf_select = GradientBoostingClassifier(n_estimators=1000, max_depth=5)\n",
    "        rf_clf_select.fit(X_train_select, y_train_select)\n",
    "        score_select = rf_clf_select.feature_importances_\n",
    "        #y_pred_select = rf_clf_select.predict(X_test_select)\n",
    "        y_pred_select_prob = rf_clf_select.predict_proba(X_test_select)[:,1]\n",
    "        # 计算ROC值\n",
    "        label_encoder = LabelEncoder()\n",
    "        y_test_select_bi = label_encoder.fit_transform(y_test_select)\n",
    "        # y_pred_select_bi = label_encoder.fit_transform(y_pred_select)\n",
    "        fpr_select, tpr_select, thresholds_select = roc_curve(y_test_select_bi, y_pred_select_prob)\n",
    "        roc_auc_select = auc(fpr_select, tpr_select)\n",
    "        roc_select_list.append(roc_auc_select)\n",
    "\n",
    "    f = open(\"模型选择/梯度下降_Cancer_ASD_Cancer.txt\", \"a\")\n",
    "    f.write(str(combination) + '\\t')\n",
    "    f.write(str(average(roc_select_list)) + '\\t')\n",
    "    f.write(str(roc_select_list))\n",
    "    f.write('\\n')\n",
    "    f.close()"
   ]
  }
 ],
 "metadata": {
  "kernelspec": {
   "display_name": "PTEN",
   "language": "python",
   "name": "python3"
  },
  "language_info": {
   "codemirror_mode": {
    "name": "ipython",
    "version": 3
   },
   "file_extension": ".py",
   "mimetype": "text/x-python",
   "name": "python",
   "nbconvert_exporter": "python",
   "pygments_lexer": "ipython3",
   "version": "3.11.5"
  }
 },
 "nbformat": 4,
 "nbformat_minor": 2
}
