{
 "cells": [
  {
   "cell_type": "markdown",
   "metadata": {},
   "source": [
    "# Machine Learning for features"
   ]
  },
  {
   "cell_type": "markdown",
   "metadata": {},
   "source": [
    "## Import packages"
   ]
  },
  {
   "cell_type": "code",
   "execution_count": 1,
   "metadata": {},
   "outputs": [
    {
     "name": "stderr",
     "output_type": "stream",
     "text": [
      "Using `tqdm.autonotebook.tqdm` in notebook mode. Use `tqdm.tqdm` instead to force console mode (e.g. in jupyter console)\n"
     ]
    }
   ],
   "source": [
    "import numpy as np\n",
    "import pandas as pd\n",
    "from xgboost import XGBClassifier\n",
    "from lightgbm import LGBMClassifier\n",
    "from catboost import CatBoostClassifier\n",
    "import shap\n",
    "from sklearn.model_selection import StratifiedKFold\n",
    "import matplotlib.pyplot as plt\n",
    "from sklearn.model_selection import cross_val_predict\n",
    "from sklearn.linear_model import LogisticRegression\n",
    "from sklearn.ensemble import StackingClassifier\n",
    "from sklearn.metrics import accuracy_score\n",
    "from sklearn.model_selection import cross_val_score\n",
    "from sklearn.metrics import roc_curve, auc\n",
    "from sklearn.preprocessing import LabelEncoder\n",
    "from sklearn.feature_selection import RFE\n",
    "from tqdm import tqdm"
   ]
  },
  {
   "cell_type": "markdown",
   "metadata": {},
   "source": [
    "## Load data"
   ]
  },
  {
   "cell_type": "code",
   "execution_count": 2,
   "metadata": {},
   "outputs": [],
   "source": [
    "# load data\n",
    "df_all = pd.read_csv('../data/paras.txt', sep='\\t')\n",
    "\n",
    "# 切分数据\n",
    "df_ASD_AC = df_all[df_all['Disease'].isin(['ASD', 'ASD_Cancer'])]\n",
    "df_Cancer_AC = df_all[df_all['Disease'].isin(['Cancer', 'ASD_Cancer'])]"
   ]
  },
  {
   "cell_type": "markdown",
   "metadata": {},
   "source": [
    "## RFE"
   ]
  },
  {
   "cell_type": "code",
   "execution_count": 3,
   "metadata": {},
   "outputs": [
    {
     "name": "stdout",
     "output_type": "stream",
     "text": [
      "----------------1---------------\n",
      "selected features: Index(['Closeness'], dtype='object')\n",
      "cross validation score: 0.885413744740533\n",
      "----------------2---------------\n",
      "selected features: Index(['Closeness', 'Degree'], dtype='object')\n",
      "cross validation score: 0.9610331930808791\n",
      "----------------3---------------\n",
      "selected features: Index(['Closeness', 'Degree', 'Effectiveness'], dtype='object')\n",
      "cross validation score: 0.9783076203833566\n",
      "----------------4---------------\n",
      "selected features: Index(['Closeness', 'Degree', 'Eigenvector', 'Effectiveness'], dtype='object')\n",
      "cross validation score: 0.9783076203833566\n",
      "----------------5---------------\n",
      "selected features: Index(['Betweenness', 'Closeness', 'Degree', 'Eigenvector', 'Effectiveness'], dtype='object')\n",
      "cross validation score: 0.9761570827489481\n",
      "----------------6---------------\n",
      "selected features: Index(['Betweenness', 'Closeness', 'Degree', 'Eigenvector', 'Effectiveness',\n",
      "       'Stiffness'],\n",
      "      dtype='object')\n",
      "cross validation score: 0.9761570827489481\n",
      "----------------7---------------\n",
      "selected features: Index(['Betweenness', 'Closeness', 'Degree', 'Eigenvector', 'Effectiveness',\n",
      "       'Sensitivity', 'Stiffness'],\n",
      "      dtype='object')\n",
      "cross validation score: 0.9761570827489481\n",
      "----------------8---------------\n",
      "selected features: Index(['RASA', 'Betweenness', 'Closeness', 'Degree', 'Eigenvector',\n",
      "       'Effectiveness', 'Sensitivity', 'Stiffness'],\n",
      "      dtype='object')\n",
      "cross validation score: 0.9739831697054699\n",
      "----------------9---------------\n",
      "selected features: Index(['Consurf_Score', 'RASA', 'Betweenness', 'Closeness', 'Degree',\n",
      "       'Eigenvector', 'Effectiveness', 'Sensitivity', 'Stiffness'],\n",
      "      dtype='object')\n",
      "cross validation score: 0.9739831697054699\n",
      "----------------10---------------\n",
      "selected features: Index(['Co.evolution', 'Consurf_Score', 'RASA', 'Betweenness', 'Closeness',\n",
      "       'Degree', 'Eigenvector', 'Effectiveness', 'Sensitivity', 'Stiffness'],\n",
      "      dtype='object')\n",
      "cross validation score: 0.9761570827489482\n",
      "----------------11---------------\n",
      "selected features: Index(['Co.evolution', 'Consurf_Score', 'RASA', 'ddG', 'Betweenness',\n",
      "       'Closeness', 'Degree', 'Eigenvector', 'Effectiveness', 'Sensitivity',\n",
      "       'Stiffness'],\n",
      "      dtype='object')\n",
      "cross validation score: 0.9718092566619916\n",
      "----------------12---------------\n",
      "selected features: Index(['Co.evolution', 'Consurf_Score', 'Entropy', 'RASA', 'ddG',\n",
      "       'Betweenness', 'Closeness', 'Degree', 'Eigenvector', 'Effectiveness',\n",
      "       'Sensitivity', 'Stiffness'],\n",
      "      dtype='object')\n",
      "cross validation score: 0.9696353436185134\n",
      "----------------13---------------\n",
      "selected features: Index(['Co.evolution', 'Consurf_Score', 'Entropy', 'RASA', 'ddG',\n",
      "       'Betweenness', 'Closeness', 'Degree', 'Eigenvector', 'Effectiveness',\n",
      "       'Sensitivity', 'MSF', 'Stiffness'],\n",
      "      dtype='object')\n",
      "cross validation score: 0.9696353436185132\n",
      "----------------14---------------\n",
      "selected features: Index(['Co.evolution', 'Consurf_Score', 'Entropy', 'RASA', 'ddG',\n",
      "       'Betweenness', 'Closeness', 'Degree', 'Eigenvector',\n",
      "       'Clustering.coefficient', 'Effectiveness', 'Sensitivity', 'MSF',\n",
      "       'Stiffness'],\n",
      "      dtype='object')\n",
      "cross validation score: 0.9718092566619916\n",
      "----------------15---------------\n",
      "selected features: Index(['Co.evolution', 'Consurf_Score', 'Entropy', 'RASA', 'ddG',\n",
      "       'Betweenness', 'Closeness', 'Degree', 'Eigenvector',\n",
      "       'Clustering.coefficient', 'Effectiveness', 'Sensitivity', 'MSF', 'DFI',\n",
      "       'Stiffness'],\n",
      "      dtype='object')\n",
      "cross validation score: 0.9718092566619916\n",
      "RFE select features [Index(['Closeness'], dtype='object'), 0.885413744740533, Index(['Closeness', 'Degree'], dtype='object'), 0.9610331930808791, Index(['Closeness', 'Degree', 'Effectiveness'], dtype='object'), 0.9783076203833566, Index(['Closeness', 'Degree', 'Eigenvector', 'Effectiveness'], dtype='object'), 0.9783076203833566, Index(['Betweenness', 'Closeness', 'Degree', 'Eigenvector', 'Effectiveness'], dtype='object'), 0.9761570827489481, Index(['Betweenness', 'Closeness', 'Degree', 'Eigenvector', 'Effectiveness',\n",
      "       'Stiffness'],\n",
      "      dtype='object'), 0.9761570827489481, Index(['Betweenness', 'Closeness', 'Degree', 'Eigenvector', 'Effectiveness',\n",
      "       'Sensitivity', 'Stiffness'],\n",
      "      dtype='object'), 0.9761570827489481, Index(['RASA', 'Betweenness', 'Closeness', 'Degree', 'Eigenvector',\n",
      "       'Effectiveness', 'Sensitivity', 'Stiffness'],\n",
      "      dtype='object'), 0.9739831697054699, Index(['Consurf_Score', 'RASA', 'Betweenness', 'Closeness', 'Degree',\n",
      "       'Eigenvector', 'Effectiveness', 'Sensitivity', 'Stiffness'],\n",
      "      dtype='object'), 0.9739831697054699, Index(['Co.evolution', 'Consurf_Score', 'RASA', 'Betweenness', 'Closeness',\n",
      "       'Degree', 'Eigenvector', 'Effectiveness', 'Sensitivity', 'Stiffness'],\n",
      "      dtype='object'), 0.9761570827489482, Index(['Co.evolution', 'Consurf_Score', 'RASA', 'ddG', 'Betweenness',\n",
      "       'Closeness', 'Degree', 'Eigenvector', 'Effectiveness', 'Sensitivity',\n",
      "       'Stiffness'],\n",
      "      dtype='object'), 0.9718092566619916, Index(['Co.evolution', 'Consurf_Score', 'Entropy', 'RASA', 'ddG',\n",
      "       'Betweenness', 'Closeness', 'Degree', 'Eigenvector', 'Effectiveness',\n",
      "       'Sensitivity', 'Stiffness'],\n",
      "      dtype='object'), 0.9696353436185134, Index(['Co.evolution', 'Consurf_Score', 'Entropy', 'RASA', 'ddG',\n",
      "       'Betweenness', 'Closeness', 'Degree', 'Eigenvector', 'Effectiveness',\n",
      "       'Sensitivity', 'MSF', 'Stiffness'],\n",
      "      dtype='object'), 0.9696353436185132, Index(['Co.evolution', 'Consurf_Score', 'Entropy', 'RASA', 'ddG',\n",
      "       'Betweenness', 'Closeness', 'Degree', 'Eigenvector',\n",
      "       'Clustering.coefficient', 'Effectiveness', 'Sensitivity', 'MSF',\n",
      "       'Stiffness'],\n",
      "      dtype='object'), 0.9718092566619916, Index(['Co.evolution', 'Consurf_Score', 'Entropy', 'RASA', 'ddG',\n",
      "       'Betweenness', 'Closeness', 'Degree', 'Eigenvector',\n",
      "       'Clustering.coefficient', 'Effectiveness', 'Sensitivity', 'MSF', 'DFI',\n",
      "       'Stiffness'],\n",
      "      dtype='object'), 0.9718092566619916]\n"
     ]
    }
   ],
   "source": [
    "import warnings\n",
    "warnings.filterwarnings('ignore')\n",
    "\n",
    "# Features and labels\n",
    "X = df_Cancer_AC[['Co.evolution','Consurf_Score','Entropy','RASA','ddG',\n",
    "             'Betweenness','Closeness','Degree','Eigenvector',\n",
    "             'Clustering.coefficient','Effectiveness','Sensitivity',\n",
    "             'MSF','DFI','Stiffness']]\n",
    "y = df_Cancer_AC['Disease']\n",
    "X1 = X\n",
    "y1 = y\n",
    "X1 = X1.reset_index(drop=True)\n",
    "y1 = y1.reset_index(drop=True)\n",
    "shuffle_index = np.random.permutation(X1.index)\n",
    "X1 = X1.iloc[shuffle_index]\n",
    "y1 = y1.iloc[shuffle_index]\n",
    "y1_encode = y1.map({'ASD_Cancer': 1, 'Cancer': 0})\n",
    "select_feature = []\n",
    "\n",
    "# RFE\n",
    "for i in range(15):\n",
    "    model = LGBMClassifier(verbose = -1, n_estimators = 1000, max_depth = 5) \n",
    "    rfe = RFE(model, n_features_to_select= i+1)\n",
    "    rfe.fit(X1, y1_encode)\n",
    "    selected_features = X.columns[rfe.support_]\n",
    "    cv = StratifiedKFold(n_splits=5, shuffle=True, random_state=42)\n",
    "    scores = cross_val_score(model, X1[selected_features], y1_encode, cv=cv)\n",
    "    print(\"----------------\"+ str(i+1) + \"---------------\")\n",
    "    selected_features = X1.columns[rfe.support_]\n",
    "    print(\"selected features:\", selected_features)\n",
    "    print(\"cross validation score:\", scores.mean())\n",
    "    select_feature.append(selected_features)\n",
    "    select_feature.append(scores.mean())"
   ]
  },
  {
   "cell_type": "code",
   "execution_count": null,
   "metadata": {},
   "outputs": [],
   "source": [
    "select_feature = "
   ]
  }
 ],
 "metadata": {
  "kernelspec": {
   "display_name": "PTEN",
   "language": "python",
   "name": "python3"
  },
  "language_info": {
   "codemirror_mode": {
    "name": "ipython",
    "version": 3
   },
   "file_extension": ".py",
   "mimetype": "text/x-python",
   "name": "python",
   "nbconvert_exporter": "python",
   "pygments_lexer": "ipython3",
   "version": "3.11.0"
  }
 },
 "nbformat": 4,
 "nbformat_minor": 2
}
