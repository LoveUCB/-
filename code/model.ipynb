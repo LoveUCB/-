{
 "cells": [
  {
   "cell_type": "markdown",
   "metadata": {},
   "source": [
    "# Machine Learning for features"
   ]
  },
  {
   "cell_type": "markdown",
   "metadata": {},
   "source": [
    "## Import packages"
   ]
  },
  {
   "cell_type": "code",
   "execution_count": 1,
   "metadata": {},
   "outputs": [
    {
     "name": "stderr",
     "output_type": "stream",
     "text": [
      "Using `tqdm.autonotebook.tqdm` in notebook mode. Use `tqdm.tqdm` instead to force console mode (e.g. in jupyter console)\n"
     ]
    }
   ],
   "source": [
    "import numpy as np\n",
    "import pandas as pd\n",
    "from xgboost import XGBClassifier\n",
    "from lightgbm import LGBMClassifier\n",
    "from catboost import CatBoostClassifier\n",
    "import shap\n",
    "from sklearn.model_selection import StratifiedKFold\n",
    "import matplotlib.pyplot as plt\n",
    "from sklearn.model_selection import cross_val_predict\n",
    "from sklearn.linear_model import LogisticRegression\n",
    "from sklearn.ensemble import StackingClassifier\n",
    "from sklearn.metrics import accuracy_score\n",
    "from sklearn.model_selection import cross_val_score\n",
    "from sklearn.metrics import roc_curve, auc\n",
    "from sklearn.preprocessing import LabelEncoder\n",
    "from sklearn.feature_selection import RFE\n",
    "from tqdm import tqdm"
   ]
  },
  {
   "cell_type": "markdown",
   "metadata": {},
   "source": [
    "## Load data"
   ]
  },
  {
   "cell_type": "code",
   "execution_count": 2,
   "metadata": {},
   "outputs": [],
   "source": [
    "# load data\n",
    "df_all = pd.read_csv('../data/paras.txt', sep='\\t')\n",
    "\n",
    "# 切分数据\n",
    "df_ASD_AC = df_all[df_all['Disease'].isin(['ASD', 'ASD_Cancer'])]\n",
    "df_Cancer_AC = df_all[df_all['Disease'].isin(['Cancer', 'ASD_Cancer'])]"
   ]
  },
  {
   "cell_type": "markdown",
   "metadata": {},
   "source": [
    "## RFE"
   ]
  },
  {
   "cell_type": "markdown",
   "metadata": {},
   "source": [
    "### Cancer vs ASD_Cancer"
   ]
  },
  {
   "cell_type": "code",
   "execution_count": 4,
   "metadata": {},
   "outputs": [
    {
     "name": "stdout",
     "output_type": "stream",
     "text": [
      "----------------1---------------\n",
      "selected features: ['Closeness', 'Effectiveness', 'ddG']\n",
      "cross validation score: 0.9480130902290791\n",
      "----------------2---------------\n",
      "selected features: ['Closeness', 'Effectiveness', 'ddG']\n",
      "cross validation score: 0.9480130902290791\n",
      "----------------3---------------\n",
      "selected features: ['Closeness', 'Effectiveness', 'ddG']\n",
      "cross validation score: 0.9480130902290791\n",
      "----------------4---------------\n",
      "selected features: ['Closeness', 'Eigenvector', 'Effectiveness', 'ddG']\n",
      "cross validation score: 0.9544647031323048\n",
      "----------------5---------------\n",
      "selected features: ['Betweenness', 'Closeness', 'Eigenvector', 'Effectiveness', 'ddG']\n",
      "cross validation score: 0.9588125292192615\n",
      "----------------6---------------\n",
      "selected features: ['Betweenness', 'Closeness', 'Eigenvector', 'Effectiveness', 'Stiffness', 'ddG']\n",
      "cross validation score: 0.9544647031323048\n",
      "----------------7---------------\n",
      "selected features: ['Betweenness', 'Closeness', 'Eigenvector', 'Effectiveness', 'Sensitivity', 'Stiffness', 'ddG']\n",
      "cross validation score: 0.9588125292192613\n",
      "----------------8---------------\n",
      "selected features: ['RASA', 'Betweenness', 'Closeness', 'Eigenvector', 'Effectiveness', 'Sensitivity', 'Stiffness', 'ddG']\n",
      "cross validation score: 0.9588125292192613\n",
      "----------------9---------------\n",
      "selected features: ['Consurf_Score', 'RASA', 'Betweenness', 'Closeness', 'Eigenvector', 'Effectiveness', 'Sensitivity', 'Stiffness', 'ddG']\n",
      "cross validation score: 0.9631369798971482\n",
      "----------------10---------------\n",
      "selected features: ['Co.evolution', 'Consurf_Score', 'RASA', 'Betweenness', 'Closeness', 'Eigenvector', 'Effectiveness', 'Sensitivity', 'Stiffness', 'ddG']\n",
      "cross validation score: 0.9631603553062178\n",
      "----------------11---------------\n",
      "selected features: ['Co.evolution', 'Consurf_Score', 'RASA', 'ddG', 'Betweenness', 'Closeness', 'Eigenvector', 'Effectiveness', 'Sensitivity', 'Stiffness']\n",
      "cross validation score: 0.9631603553062178\n",
      "----------------12---------------\n",
      "selected features: ['Co.evolution', 'Consurf_Score', 'Entropy', 'RASA', 'ddG', 'Betweenness', 'Closeness', 'Eigenvector', 'Effectiveness', 'Sensitivity', 'Stiffness']\n",
      "cross validation score: 0.9609864422627397\n",
      "----------------13---------------\n",
      "selected features: ['Co.evolution', 'Consurf_Score', 'Entropy', 'RASA', 'ddG', 'Betweenness', 'Closeness', 'Eigenvector', 'Effectiveness', 'Sensitivity', 'MSF', 'Stiffness']\n",
      "cross validation score: 0.9631603553062178\n",
      "----------------14---------------\n",
      "selected features: ['Co.evolution', 'Consurf_Score', 'Entropy', 'RASA', 'ddG', 'Betweenness', 'Closeness', 'Eigenvector', 'Clustering.coefficient', 'Effectiveness', 'Sensitivity', 'MSF', 'Stiffness']\n",
      "cross validation score: 0.9631603553062178\n",
      "----------------15---------------\n",
      "selected features: ['Co.evolution', 'Consurf_Score', 'Entropy', 'RASA', 'ddG', 'Betweenness', 'Closeness', 'Eigenvector', 'Clustering.coefficient', 'Effectiveness', 'Sensitivity', 'MSF', 'DFI', 'Stiffness']\n",
      "cross validation score: 0.9631603553062178\n"
     ]
    }
   ],
   "source": [
    "import warnings\n",
    "warnings.filterwarnings('ignore')\n",
    "\n",
    "# Features and labels\n",
    "X = df_Cancer_AC[['Co.evolution','Consurf_Score','Entropy','RASA','ddG',\n",
    "             'Betweenness','Closeness','Degree','Eigenvector',\n",
    "             'Clustering.coefficient','Effectiveness','Sensitivity',\n",
    "             'MSF','DFI','Stiffness']]\n",
    "y = df_Cancer_AC['Disease']\n",
    "X1 = X\n",
    "y1 = y\n",
    "X1 = X1.reset_index(drop=True)\n",
    "y1 = y1.reset_index(drop=True)\n",
    "shuffle_index = np.random.permutation(X1.index)\n",
    "X1 = X1.iloc[shuffle_index]\n",
    "y1 = y1.iloc[shuffle_index]\n",
    "y1_encode = y1.map({'ASD_Cancer': 1, 'Cancer': 0})\n",
    "select_feature = []\n",
    "\n",
    "# RFE\n",
    "for i in range(15):\n",
    "    model = LGBMClassifier(verbose = -1, n_estimators = 1000, max_depth = 5) \n",
    "    rfe = RFE(model, n_features_to_select= i+1)\n",
    "    rfe.fit(X1, y1_encode)\n",
    "    selected_features =list(X.columns[rfe.support_])\n",
    "    if 'Degree' in selected_features:\n",
    "        selected_features.remove('Degree')\n",
    "    if \"Effectiveness\" not in selected_features \\\n",
    "        and \"Sensitivity\" not in selected_features \\\n",
    "        and \"Stiffness\" not in selected_features \\\n",
    "        and \"MSF\" not in selected_features \\\n",
    "        and \"DFI\" not in  selected_features:\n",
    "            selected_features.append(\"Effectiveness\")\n",
    "    if \"ddG\" not in selected_features:\n",
    "            selected_features.append(\"ddG\")\n",
    "    cv = StratifiedKFold(n_splits=5, shuffle=True, random_state=42)\n",
    "    scores = cross_val_score(model, X1[selected_features], y1_encode, cv=cv)\n",
    "    print(\"----------------\"+ str(i+1) + \"---------------\")\n",
    "    # selected_features = X1.columns[rfe.support_]\n",
    "    print(\"selected features:\", selected_features)\n",
    "    print(\"cross validation score:\", scores.mean())\n",
    "    select_feature.append(selected_features)\n",
    "    select_feature.append(scores.mean())"
   ]
  },
  {
   "cell_type": "markdown",
   "metadata": {},
   "source": [
    "### The indicators for Cancer vs ASD_Cancer is \n",
    "['Co.evolution', 'Consurf_Score', 'RASA', 'Betweenness', 'Closeness', 'Eigenvector', 'Effectiveness', 'Sensitivity', 'Stiffness', 'ddG']"
   ]
  },
  {
   "cell_type": "markdown",
   "metadata": {},
   "source": [
    "### ASD vs ASD_Cancer"
   ]
  },
  {
   "cell_type": "code",
   "execution_count": 5,
   "metadata": {},
   "outputs": [
    {
     "name": "stdout",
     "output_type": "stream",
     "text": [
      "----------------1---------------\n",
      "selected features: ['Closeness', 'Effectiveness', 'ddG']\n",
      "cross validation score: 0.7125356125356126\n",
      "----------------2---------------\n",
      "selected features: ['Closeness', 'Eigenvector', 'Effectiveness', 'ddG']\n",
      "cross validation score: 0.7264957264957266\n",
      "----------------3---------------\n",
      "selected features: ['Betweenness', 'Closeness', 'Eigenvector', 'Effectiveness', 'ddG']\n",
      "cross validation score: 0.7649572649572649\n",
      "----------------4---------------\n",
      "selected features: ['ddG', 'Betweenness', 'Closeness', 'Eigenvector', 'Effectiveness']\n",
      "cross validation score: 0.7649572649572649\n",
      "----------------5---------------\n",
      "selected features: ['RASA', 'ddG', 'Betweenness', 'Closeness', 'Eigenvector', 'Effectiveness']\n",
      "cross validation score: 0.7948717948717949\n",
      "----------------6---------------\n",
      "selected features: ['RASA', 'ddG', 'Betweenness', 'Closeness', 'Eigenvector', 'Sensitivity']\n",
      "cross validation score: 0.8256410256410256\n",
      "----------------7---------------\n",
      "selected features: ['RASA', 'ddG', 'Betweenness', 'Closeness', 'Eigenvector', 'Sensitivity', 'MSF']\n",
      "cross validation score: 0.8025641025641026\n",
      "----------------8---------------\n",
      "selected features: ['RASA', 'ddG', 'Betweenness', 'Closeness', 'Eigenvector', 'Sensitivity', 'MSF']\n",
      "cross validation score: 0.8025641025641026\n",
      "----------------9---------------\n",
      "selected features: ['Consurf_Score', 'RASA', 'ddG', 'Betweenness', 'Closeness', 'Eigenvector', 'Sensitivity', 'MSF']\n",
      "cross validation score: 0.8022792022792021\n",
      "----------------10---------------\n",
      "selected features: ['Consurf_Score', 'RASA', 'ddG', 'Betweenness', 'Closeness', 'Eigenvector', 'Effectiveness', 'Sensitivity', 'MSF']\n",
      "cross validation score: 0.7951566951566952\n",
      "----------------11---------------\n",
      "selected features: ['Co.evolution', 'Consurf_Score', 'RASA', 'ddG', 'Betweenness', 'Closeness', 'Eigenvector', 'Effectiveness', 'Sensitivity', 'MSF']\n",
      "cross validation score: 0.7871794871794872\n",
      "----------------12---------------\n",
      "selected features: ['Co.evolution', 'Consurf_Score', 'RASA', 'ddG', 'Betweenness', 'Closeness', 'Eigenvector', 'Effectiveness', 'Sensitivity', 'MSF', 'Stiffness']\n",
      "cross validation score: 0.7871794871794872\n",
      "----------------13---------------\n",
      "selected features: ['Co.evolution', 'Consurf_Score', 'RASA', 'ddG', 'Betweenness', 'Closeness', 'Eigenvector', 'Clustering.coefficient', 'Effectiveness', 'Sensitivity', 'MSF', 'Stiffness']\n",
      "cross validation score: 0.7792022792022791\n",
      "----------------14---------------\n",
      "selected features: ['Co.evolution', 'Consurf_Score', 'Entropy', 'RASA', 'ddG', 'Betweenness', 'Closeness', 'Eigenvector', 'Clustering.coefficient', 'Effectiveness', 'Sensitivity', 'MSF', 'Stiffness']\n",
      "cross validation score: 0.7943019943019942\n",
      "----------------15---------------\n",
      "selected features: ['Co.evolution', 'Consurf_Score', 'Entropy', 'RASA', 'ddG', 'Betweenness', 'Closeness', 'Eigenvector', 'Clustering.coefficient', 'Effectiveness', 'Sensitivity', 'MSF', 'DFI', 'Stiffness']\n",
      "cross validation score: 0.7943019943019942\n"
     ]
    }
   ],
   "source": [
    "import warnings\n",
    "warnings.filterwarnings('ignore')\n",
    "\n",
    "# Features and labels\n",
    "X = df_ASD_AC[['Co.evolution','Consurf_Score','Entropy','RASA','ddG',\n",
    "             'Betweenness','Closeness','Degree','Eigenvector',\n",
    "             'Clustering.coefficient','Effectiveness','Sensitivity',\n",
    "             'MSF','DFI','Stiffness']]\n",
    "y = df_ASD_AC['Disease']\n",
    "X1 = X\n",
    "y1 = y\n",
    "X1 = X1.reset_index(drop=True)\n",
    "y1 = y1.reset_index(drop=True)\n",
    "shuffle_index = np.random.permutation(X1.index)\n",
    "X1 = X1.iloc[shuffle_index]\n",
    "y1 = y1.iloc[shuffle_index]\n",
    "y1_encode = y1.map({'ASD_Cancer': 1, 'ASD': 0})\n",
    "select_feature = []\n",
    "\n",
    "# RFE\n",
    "for i in range(15):\n",
    "    model = LGBMClassifier(verbose = -1, n_estimators = 1000, max_depth = 5) \n",
    "    rfe = RFE(model, n_features_to_select= i+1)\n",
    "    rfe.fit(X1, y1_encode)\n",
    "    selected_features =list(X.columns[rfe.support_])\n",
    "    if 'Degree' in selected_features:\n",
    "        selected_features.remove('Degree')\n",
    "    if \"Effectiveness\" not in selected_features \\\n",
    "        and \"Sensitivity\" not in selected_features \\\n",
    "        and \"Stiffness\" not in selected_features \\\n",
    "        and \"MSF\" not in selected_features \\\n",
    "        and \"DFI\" not in  selected_features:\n",
    "            selected_features.append(\"Effectiveness\")\n",
    "    if \"ddG\" not in selected_features:\n",
    "            selected_features.append(\"ddG\")\n",
    "    cv = StratifiedKFold(n_splits=5, shuffle=True, random_state=42)\n",
    "    scores = cross_val_score(model, X1[selected_features], y1_encode, cv=cv)\n",
    "    print(\"----------------\"+ str(i+1) + \"---------------\")\n",
    "    # selected_features = X1.columns[rfe.support_]\n",
    "    print(\"selected features:\", selected_features)\n",
    "    print(\"cross validation score:\", scores.mean())\n",
    "    select_feature.append(selected_features)\n",
    "    select_feature.append(scores.mean())"
   ]
  },
  {
   "cell_type": "code",
   "execution_count": null,
   "metadata": {},
   "outputs": [],
   "source": [
    "### The indicators for ASD vs ASD_Cancer is \n",
    "['ddG', 'Betweenness', 'Closeness', 'Eigenvector', 'Sensitivity', 'RASA']"
   ]
  },
  {
   "cell_type": "markdown",
   "metadata": {},
   "source": [
    "## Explaination"
   ]
  },
  {
   "cell_type": "markdown",
   "metadata": {},
   "source": [
    "### Cancer vs ASD_Cancer"
   ]
  },
  {
   "cell_type": "code",
   "execution_count": 9,
   "metadata": {},
   "outputs": [],
   "source": [
    "import lightgbm as lgb\n",
    "from sklearn.model_selection import train_test_split\n",
    "\n",
    "# The indicators are\n",
    "X = df_Cancer_AC[['Co.evolution', 'Consurf_Score', 'RASA', 'Betweenness', \n",
    "                      'Closeness', 'Eigenvector', 'Effectiveness', 'Sensitivity', 'Stiffness', 'ddG']]\n",
    "y = df_Cancer_AC['Disease']\n",
    "X = X.reset_index(drop=True)\n",
    "y = y.reset_index(drop=True)\n",
    "shuffle_index = np.random.permutation(X.index)\n",
    "X = X.iloc[shuffle_index]\n",
    "y = y.iloc[shuffle_index]\n",
    "y = y.map({'ASD_Cancer': 1, 'Cancer': 0})\n",
    "# Using LightGBM Model\n",
    "X_train, X_test, y_train, y_test = train_test_split(X, y, test_size=0.2, random_state=7)\n",
    "d_train = lgb.Dataset(X_train, label=y_train)\n",
    "d_test = lgb.Dataset(X_test, label=y_test)\n",
    "\n",
    "# parameters\n",
    "params = {\n",
    "    \"max_bin\": 512,\n",
    "    \"learning_rate\": 0.05,\n",
    "    \"boosting_type\": \"gbdt\",\n",
    "    \"objective\": \"binary\",\n",
    "    \"metric\": \"binary_logloss\",\n",
    "    \"num_leaves\": 10,\n",
    "    \"verbose\": -1,\n",
    "    \"boost_from_average\": True,\n",
    "    \"early_stopping_rounds\": 50,\n",
    "    \"verbose_eval\": 1000\n",
    "}\n",
    "# train the model\n",
    "model = lgb.train(\n",
    "    params,\n",
    "    d_train,\n",
    "    1000,\n",
    "    valid_sets=[d_test],\n",
    ")\n",
    "explainer = shap.TreeExplainer(model)\n",
    "shap_values = explainer.shap_values(X)\n",
    "\n",
    "# Save force plot\n",
    "p = shap.force_plot(explainer.expected_value[1], \n",
    "                    shap_values[1], \n",
    "                    X,\n",
    "                    link=\"logit\")\n",
    "shap.save_html(f'../figure/force_plot_Cancer_ASD_Cancer.html', p)\n",
    "\n",
    "# Save summary plot\n",
    "fig = shap.summary_plot(shap_values[1], X, alpha=0.75, show=False)\n",
    "plt.title(\"Cancer vs ASD_Cancer\", fontweight='bold', fontsize=15)\n",
    "plt.xlabel(\"Impact on model output\")\n",
    "plt.savefig(f\"../figure/summary_plot_Cancer_ASD_Cancer.pdf\", bbox_inches='tight')\n",
    "plt.close()"
   ]
  },
  {
   "cell_type": "markdown",
   "metadata": {},
   "source": [
    "### ASD vs ASD_Cancer"
   ]
  },
  {
   "cell_type": "code",
   "execution_count": 10,
   "metadata": {},
   "outputs": [],
   "source": [
    "# The indicators are\n",
    "X = df_ASD_AC[['ddG', 'Betweenness', 'Closeness', 'Eigenvector', 'Sensitivity', 'RASA']]\n",
    "y = df_ASD_AC['Disease']\n",
    "X = X.reset_index(drop=True)\n",
    "y = y.reset_index(drop=True)\n",
    "shuffle_index = np.random.permutation(X.index)\n",
    "X = X.iloc[shuffle_index]\n",
    "y = y.iloc[shuffle_index]\n",
    "y = y.map({'ASD_Cancer': 1, 'ASD': 0})\n",
    "# Using LightGBM Model\n",
    "X_train, X_test, y_train, y_test = train_test_split(X, y, test_size=0.2, random_state=7)\n",
    "d_train = lgb.Dataset(X_train, label=y_train)\n",
    "d_test = lgb.Dataset(X_test, label=y_test)\n",
    "\n",
    "# parameters\n",
    "params = {\n",
    "    \"max_bin\": 512,\n",
    "    \"learning_rate\": 0.05,\n",
    "    \"boosting_type\": \"gbdt\",\n",
    "    \"objective\": \"binary\",\n",
    "    \"metric\": \"binary_logloss\",\n",
    "    \"num_leaves\": 10,\n",
    "    \"verbose\": -1,\n",
    "    \"boost_from_average\": True,\n",
    "    \"early_stopping_rounds\": 50,\n",
    "    \"verbose_eval\": 1000\n",
    "}\n",
    "# train the model\n",
    "model = lgb.train(\n",
    "    params,\n",
    "    d_train,\n",
    "    1000,\n",
    "    valid_sets=[d_test],\n",
    ")\n",
    "explainer = shap.TreeExplainer(model)\n",
    "shap_values = explainer.shap_values(X)\n",
    "\n",
    "# Save force plot\n",
    "p = shap.force_plot(explainer.expected_value[1], \n",
    "                    shap_values[1], \n",
    "                    X,\n",
    "                    link=\"logit\")\n",
    "shap.save_html(f'../figure/force_plot_ASD_ASD_Cancer.html', p)\n",
    "\n",
    "# Save summary plot\n",
    "fig = shap.summary_plot(shap_values[1], X, alpha=0.75, show=False)\n",
    "plt.title(\"ASD vs ASD_Cancer\", fontweight='bold', fontsize=15)\n",
    "plt.xlabel(\"Impact on model output\")\n",
    "plt.savefig(f\"../figure/summary_plot_ASD_ASD_Cancer.pdf\", bbox_inches='tight')\n",
    "plt.close()"
   ]
  }
 ],
 "metadata": {
  "kernelspec": {
   "display_name": "PTEN",
   "language": "python",
   "name": "python3"
  },
  "language_info": {
   "codemirror_mode": {
    "name": "ipython",
    "version": 3
   },
   "file_extension": ".py",
   "mimetype": "text/x-python",
   "name": "python",
   "nbconvert_exporter": "python",
   "pygments_lexer": "ipython3",
   "version": "3.11.0"
  }
 },
 "nbformat": 4,
 "nbformat_minor": 2
}
